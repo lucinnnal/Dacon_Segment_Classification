{
  "cells": [
    {
      "cell_type": "code",
      "execution_count": 1,
      "metadata": {
        "colab": {
          "base_uri": "https://localhost:8080/"
        },
        "id": "s2m8BsZoP1ld",
        "outputId": "b14768fa-0372-432c-8f23-2a90baef6aa6"
      },
      "outputs": [
        {
          "name": "stdout",
          "output_type": "stream",
          "text": [
            "Cloning into 'Dacon_Segment_Classification'...\n",
            "remote: Enumerating objects: 37, done.\u001b[K\n",
            "remote: Counting objects: 100% (37/37), done.\u001b[K\n",
            "remote: Compressing objects: 100% (25/25), done.\u001b[K\n",
            "remote: Total 37 (delta 20), reused 27 (delta 10), pack-reused 0 (from 0)\u001b[K\n",
            "Receiving objects: 100% (37/37), 6.37 KiB | 6.37 MiB/s, done.\n",
            "Resolving deltas: 100% (20/20), done.\n"
          ]
        }
      ],
      "source": [
        "!git clone https://github.com/lucinnnal/Dacon_Segment_Classification.git"
      ]
    },
    {
      "cell_type": "code",
      "execution_count": 3,
      "metadata": {
        "colab": {
          "base_uri": "https://localhost:8080/"
        },
        "id": "dA9lIZbApy31",
        "outputId": "a23f0585-4a11-46e7-f3e1-5b6ad96af249"
      },
      "outputs": [
        {
          "name": "stdout",
          "output_type": "stream",
          "text": [
            "Mounted at /content/drive\n"
          ]
        }
      ],
      "source": [
        "from google.colab import drive\n",
        "drive.mount('/content/drive')"
      ]
    },
    {
      "cell_type": "code",
      "execution_count": 4,
      "metadata": {
        "colab": {
          "base_uri": "https://localhost:8080/"
        },
        "id": "mpxTrD39TikA",
        "outputId": "30e4e730-d637-48e0-d0b5-41df3c51f18c"
      },
      "outputs": [
        {
          "name": "stdout",
          "output_type": "stream",
          "text": [
            "/content/Dacon_Segment_Classification\n"
          ]
        }
      ],
      "source": [
        "%cd /content/Dacon_Segment_Classification"
      ]
    },
    {
      "cell_type": "code",
      "execution_count": 5,
      "metadata": {
        "colab": {
          "base_uri": "https://localhost:8080/"
        },
        "id": "fBVzTZfLTmC8",
        "outputId": "f7fa09ce-6b74-4e59-f4cd-cd816dcb11a7"
      },
      "outputs": [
        {
          "name": "stdout",
          "output_type": "stream",
          "text": [
            "/content/Dacon_Segment_Classification\n"
          ]
        }
      ],
      "source": [
        "!pwd"
      ]
    },
    {
      "cell_type": "code",
      "execution_count": null,
      "metadata": {
        "colab": {
          "base_uri": "https://localhost:8080/"
        },
        "id": "OhghJUHzURv5",
        "outputId": "3282b487-14bd-41ef-ff9c-de6ec63798b3"
      },
      "outputs": [
        {
          "name": "stdout",
          "output_type": "stream",
          "text": [
            "customer_train_07 is loaded from ../drive/MyDrive/data/train/1.회원정보/201807_train_회원정보.parquet\n",
            "customer_train_08 is loaded from ../drive/MyDrive/data/train/1.회원정보/201808_train_회원정보.parquet\n",
            "customer_train_09 is loaded from ../drive/MyDrive/data/train/1.회원정보/201809_train_회원정보.parquet\n",
            "customer_train_10 is loaded from ../drive/MyDrive/data/train/1.회원정보/201810_train_회원정보.parquet\n",
            "customer_train_11 is loaded from ../drive/MyDrive/data/train/1.회원정보/201811_train_회원정보.parquet\n",
            "customer_train_12 is loaded from ../drive/MyDrive/data/train/1.회원정보/201812_train_회원정보.parquet\n",
            "credit_train_07 is loaded from ../drive/MyDrive/data/train/2.신용정보/201807_train_신용정보.parquet\n",
            "credit_train_08 is loaded from ../drive/MyDrive/data/train/2.신용정보/201808_train_신용정보.parquet\n",
            "credit_train_09 is loaded from ../drive/MyDrive/data/train/2.신용정보/201809_train_신용정보.parquet\n",
            "credit_train_10 is loaded from ../drive/MyDrive/data/train/2.신용정보/201810_train_신용정보.parquet\n",
            "credit_train_11 is loaded from ../drive/MyDrive/data/train/2.신용정보/201811_train_신용정보.parquet\n",
            "credit_train_12 is loaded from ../drive/MyDrive/data/train/2.신용정보/201812_train_신용정보.parquet\n",
            "sales_train_07 is loaded from ../drive/MyDrive/data/train/3.승인매출정보/201807_train_승인매출정보.parquet\n",
            "sales_train_08 is loaded from ../drive/MyDrive/data/train/3.승인매출정보/201808_train_승인매출정보.parquet\n",
            "sales_train_09 is loaded from ../drive/MyDrive/data/train/3.승인매출정보/201809_train_승인매출정보.parquet\n",
            "sales_train_10 is loaded from ../drive/MyDrive/data/train/3.승인매출정보/201810_train_승인매출정보.parquet\n",
            "sales_train_11 is loaded from ../drive/MyDrive/data/train/3.승인매출정보/201811_train_승인매출정보.parquet\n",
            "sales_train_12 is loaded from ../drive/MyDrive/data/train/3.승인매출정보/201812_train_승인매출정보.parquet\n",
            "billing_train_07 is loaded from ../drive/MyDrive/data/train/4.청구입금정보/201807_train_청구정보.parquet\n",
            "billing_train_08 is loaded from ../drive/MyDrive/data/train/4.청구입금정보/201808_train_청구정보.parquet\n",
            "billing_train_09 is loaded from ../drive/MyDrive/data/train/4.청구입금정보/201809_train_청구정보.parquet\n",
            "billing_train_10 is loaded from ../drive/MyDrive/data/train/4.청구입금정보/201810_train_청구정보.parquet\n",
            "billing_train_11 is loaded from ../drive/MyDrive/data/train/4.청구입금정보/201811_train_청구정보.parquet\n",
            "billing_train_12 is loaded from ../drive/MyDrive/data/train/4.청구입금정보/201812_train_청구정보.parquet\n",
            "balance_train_07 is loaded from ../drive/MyDrive/data/train/5.잔액정보/201807_train_잔액정보.parquet\n",
            "balance_train_08 is loaded from ../drive/MyDrive/data/train/5.잔액정보/201808_train_잔액정보.parquet\n",
            "balance_train_09 is loaded from ../drive/MyDrive/data/train/5.잔액정보/201809_train_잔액정보.parquet\n",
            "balance_train_10 is loaded from ../drive/MyDrive/data/train/5.잔액정보/201810_train_잔액정보.parquet\n",
            "balance_train_11 is loaded from ../drive/MyDrive/data/train/5.잔액정보/201811_train_잔액정보.parquet\n",
            "balance_train_12 is loaded from ../drive/MyDrive/data/train/5.잔액정보/201812_train_잔액정보.parquet\n",
            "channel_train_07 is loaded from ../drive/MyDrive/data/train/6.채널정보/201807_train_채널정보.parquet\n",
            "channel_train_08 is loaded from ../drive/MyDrive/data/train/6.채널정보/201808_train_채널정보.parquet\n",
            "channel_train_09 is loaded from ../drive/MyDrive/data/train/6.채널정보/201809_train_채널정보.parquet\n",
            "channel_train_10 is loaded from ../drive/MyDrive/data/train/6.채널정보/201810_train_채널정보.parquet\n",
            "channel_train_11 is loaded from ../drive/MyDrive/data/train/6.채널정보/201811_train_채널정보.parquet\n",
            "channel_train_12 is loaded from ../drive/MyDrive/data/train/6.채널정보/201812_train_채널정보.parquet\n",
            "marketing_train_07 is loaded from ../drive/MyDrive/data/train/7.마케팅정보/201807_train_마케팅정보.parquet\n",
            "marketing_train_08 is loaded from ../drive/MyDrive/data/train/7.마케팅정보/201808_train_마케팅정보.parquet\n",
            "marketing_train_09 is loaded from ../drive/MyDrive/data/train/7.마케팅정보/201809_train_마케팅정보.parquet\n",
            "marketing_train_10 is loaded from ../drive/MyDrive/data/train/7.마케팅정보/201810_train_마케팅정보.parquet\n",
            "marketing_train_11 is loaded from ../drive/MyDrive/data/train/7.마케팅정보/201811_train_마케팅정보.parquet\n",
            "marketing_train_12 is loaded from ../drive/MyDrive/data/train/7.마케팅정보/201812_train_마케팅정보.parquet\n",
            "performance_train_07 is loaded from ../drive/MyDrive/data/train/8.성과정보/201807_train_성과정보.parquet\n",
            "performance_train_08 is loaded from ../drive/MyDrive/data/train/8.성과정보/201808_train_성과정보.parquet\n",
            "performance_train_09 is loaded from ../drive/MyDrive/data/train/8.성과정보/201809_train_성과정보.parquet\n",
            "performance_train_10 is loaded from ../drive/MyDrive/data/train/8.성과정보/201810_train_성과정보.parquet\n",
            "performance_train_11 is loaded from ../drive/MyDrive/data/train/8.성과정보/201811_train_성과정보.parquet\n",
            "performance_train_12 is loaded from ../drive/MyDrive/data/train/8.성과정보/201812_train_성과정보.parquet\n",
            "customer_test_07 is loaded from ../drive/MyDrive/data/test/1.회원정보/201807_test_회원정보.parquet\n",
            "customer_test_08 is loaded from ../drive/MyDrive/data/test/1.회원정보/201808_test_회원정보.parquet\n",
            "customer_test_09 is loaded from ../drive/MyDrive/data/test/1.회원정보/201809_test_회원정보.parquet\n",
            "customer_test_10 is loaded from ../drive/MyDrive/data/test/1.회원정보/201810_test_회원정보.parquet\n",
            "customer_test_11 is loaded from ../drive/MyDrive/data/test/1.회원정보/201811_test_회원정보.parquet\n",
            "customer_test_12 is loaded from ../drive/MyDrive/data/test/1.회원정보/201812_test_회원정보.parquet\n",
            "credit_test_07 is loaded from ../drive/MyDrive/data/test/2.신용정보/201807_test_신용정보.parquet\n",
            "credit_test_08 is loaded from ../drive/MyDrive/data/test/2.신용정보/201808_test_신용정보.parquet\n",
            "credit_test_09 is loaded from ../drive/MyDrive/data/test/2.신용정보/201809_test_신용정보.parquet\n",
            "credit_test_10 is loaded from ../drive/MyDrive/data/test/2.신용정보/201810_test_신용정보.parquet\n",
            "credit_test_11 is loaded from ../drive/MyDrive/data/test/2.신용정보/201811_test_신용정보.parquet\n",
            "credit_test_12 is loaded from ../drive/MyDrive/data/test/2.신용정보/201812_test_신용정보.parquet\n",
            "sales_test_07 is loaded from ../drive/MyDrive/data/test/3.승인매출정보/201807_test_승인매출정보.parquet\n",
            "sales_test_08 is loaded from ../drive/MyDrive/data/test/3.승인매출정보/201808_test_승인매출정보.parquet\n",
            "sales_test_09 is loaded from ../drive/MyDrive/data/test/3.승인매출정보/201809_test_승인매출정보.parquet\n",
            "sales_test_10 is loaded from ../drive/MyDrive/data/test/3.승인매출정보/201810_test_승인매출정보.parquet\n",
            "sales_test_11 is loaded from ../drive/MyDrive/data/test/3.승인매출정보/201811_test_승인매출정보.parquet\n",
            "sales_test_12 is loaded from ../drive/MyDrive/data/test/3.승인매출정보/201812_test_승인매출정보.parquet\n",
            "billing_test_07 is loaded from ../drive/MyDrive/data/test/4.청구입금정보/201807_test_청구정보.parquet\n",
            "billing_test_08 is loaded from ../drive/MyDrive/data/test/4.청구입금정보/201808_test_청구정보.parquet\n",
            "billing_test_09 is loaded from ../drive/MyDrive/data/test/4.청구입금정보/201809_test_청구정보.parquet\n",
            "billing_test_10 is loaded from ../drive/MyDrive/data/test/4.청구입금정보/201810_test_청구정보.parquet\n",
            "billing_test_11 is loaded from ../drive/MyDrive/data/test/4.청구입금정보/201811_test_청구정보.parquet\n",
            "billing_test_12 is loaded from ../drive/MyDrive/data/test/4.청구입금정보/201812_test_청구정보.parquet\n",
            "balance_test_07 is loaded from ../drive/MyDrive/data/test/5.잔액정보/201807_test_잔액정보.parquet\n",
            "balance_test_08 is loaded from ../drive/MyDrive/data/test/5.잔액정보/201808_test_잔액정보.parquet\n",
            "balance_test_09 is loaded from ../drive/MyDrive/data/test/5.잔액정보/201809_test_잔액정보.parquet\n",
            "balance_test_10 is loaded from ../drive/MyDrive/data/test/5.잔액정보/201810_test_잔액정보.parquet\n",
            "balance_test_11 is loaded from ../drive/MyDrive/data/test/5.잔액정보/201811_test_잔액정보.parquet\n",
            "balance_test_12 is loaded from ../drive/MyDrive/data/test/5.잔액정보/201812_test_잔액정보.parquet\n",
            "channel_test_07 is loaded from ../drive/MyDrive/data/test/6.채널정보/201807_test_채널정보.parquet\n",
            "channel_test_08 is loaded from ../drive/MyDrive/data/test/6.채널정보/201808_test_채널정보.parquet\n",
            "channel_test_09 is loaded from ../drive/MyDrive/data/test/6.채널정보/201809_test_채널정보.parquet\n",
            "channel_test_10 is loaded from ../drive/MyDrive/data/test/6.채널정보/201810_test_채널정보.parquet\n",
            "channel_test_11 is loaded from ../drive/MyDrive/data/test/6.채널정보/201811_test_채널정보.parquet\n",
            "channel_test_12 is loaded from ../drive/MyDrive/data/test/6.채널정보/201812_test_채널정보.parquet\n",
            "marketing_test_07 is loaded from ../drive/MyDrive/data/test/7.마케팅정보/201807_test_마케팅정보.parquet\n",
            "marketing_test_08 is loaded from ../drive/MyDrive/data/test/7.마케팅정보/201808_test_마케팅정보.parquet\n",
            "marketing_test_09 is loaded from ../drive/MyDrive/data/test/7.마케팅정보/201809_test_마케팅정보.parquet\n",
            "marketing_test_10 is loaded from ../drive/MyDrive/data/test/7.마케팅정보/201810_test_마케팅정보.parquet\n",
            "marketing_test_11 is loaded from ../drive/MyDrive/data/test/7.마케팅정보/201811_test_마케팅정보.parquet\n",
            "marketing_test_12 is loaded from ../drive/MyDrive/data/test/7.마케팅정보/201812_test_마케팅정보.parquet\n",
            "performance_test_07 is loaded from ../drive/MyDrive/data/test/8.성과정보/201807_test_성과정보.parquet\n",
            "performance_test_08 is loaded from ../drive/MyDrive/data/test/8.성과정보/201808_test_성과정보.parquet\n",
            "performance_test_09 is loaded from ../drive/MyDrive/data/test/8.성과정보/201809_test_성과정보.parquet\n",
            "performance_test_10 is loaded from ../drive/MyDrive/data/test/8.성과정보/201810_test_성과정보.parquet\n",
            "performance_test_11 is loaded from ../drive/MyDrive/data/test/8.성과정보/201811_test_성과정보.parquet\n",
            "performance_test_12 is loaded from ../drive/MyDrive/data/test/8.성과정보/201812_test_성과정보.parquet\n",
            "customer_train_df is created with shape: (2400000, 78)\n",
            "credit_train_df is created with shape: (2400000, 42)\n",
            "sales_train_df is created with shape: (2400000, 406)\n",
            "billing_train_df is created with shape: (2400000, 46)\n",
            "balance_train_df is created with shape: (2400000, 82)\n",
            "channel_train_df is created with shape: (2400000, 105)\n",
            "marketing_train_df is created with shape: (2400000, 64)\n",
            "performance_train_df is created with shape: (2400000, 49)\n",
            "customer_test_df is created with shape: (600000, 77)\n",
            "credit_test_df is created with shape: (600000, 42)\n",
            "sales_test_df is created with shape: (600000, 406)\n",
            "billing_test_df is created with shape: (600000, 46)\n",
            "balance_test_df is created with shape: (600000, 82)\n",
            "channel_test_df is created with shape: (600000, 105)\n",
            "marketing_test_df is created with shape: (600000, 64)\n",
            "performance_test_df is created with shape: (600000, 49)\n",
            "Step1 저장 완료: train_step1, shape: (2400000, 118)\n",
            "Step2 저장 완료: train_Step2, shape: (2400000, 522)\n",
            "Step3 저장 완료: train_Step3, shape: (2400000, 566)\n",
            "Step4 저장 완료: train_Step4, shape: (2400000, 646)\n",
            "Step5 저장 완료: train_Step5, shape: (2400000, 749)\n",
            "Step6 저장 완료: train_Step6, shape: (2400000, 811)\n",
            "최종 저장 완료: train_최종, shape: (2400000, 858)\n",
            "Step1 저장 완료: test_step1, shape: (600000, 117)\n",
            "Step2 저장 완료: test_Step2, shape: (600000, 521)\n",
            "Step3 저장 완료: test_Step3, shape: (600000, 565)\n",
            "Step4 저장 완료: test_Step4, shape: (600000, 645)\n",
            "Step5 저장 완료: test_Step5, shape: (600000, 748)\n",
            "Step6 저장 완료: test_Step6, shape: (600000, 810)\n",
            "최종 저장 완료: test_최종, shape: (600000, 857)\n",
            "Saving processed datasets...\n",
            "Datasets saved successfully\n",
            "Train Start\n",
            "Inferencing...\n",
            "Start recording answers\n"
          ]
        }
      ],
      "source": [
        "!python -u models/xgboost.py"
      ]
    }
  ],
  "metadata": {
    "accelerator": "TPU",
    "colab": {
      "gpuType": "V28",
      "provenance": []
    },
    "kernelspec": {
      "display_name": "Python 3",
      "name": "python3"
    },
    "language_info": {
      "name": "python"
    }
  },
  "nbformat": 4,
  "nbformat_minor": 0
}
